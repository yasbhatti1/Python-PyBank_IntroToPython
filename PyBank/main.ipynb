{
 "cells": [
  {
   "cell_type": "code",
   "execution_count": 1,
   "id": "993fb011-8a8f-4f64-a150-d12452d8b8e0",
   "metadata": {},
   "outputs": [],
   "source": [
    "# script will import Path from the Pathlib library to set the file path.\n",
    "# It will use the csv library to read in the file, and iterate over each\n",
    "# row of the file. It will, then, perform appropriate calculations to generate financial report.  \n",
    "# Finally; it will write an output file with required financial anlaysis... "
   ]
  },
  {
   "cell_type": "code",
   "execution_count": 1,
   "id": "8e1b9fe8-7c61-4616-be2c-7b1eab5335bf",
   "metadata": {},
   "outputs": [
    {
     "name": "stdout",
     "output_type": "stream",
     "text": [
      "/Users/yasbhatti/homework/Python-homework/PyBank\n"
     ]
    }
   ],
   "source": [
    "# Import the pathlib and csv library\n",
    "from pathlib import Path\n",
    "import csv\n",
    "\n",
    "# print the current working path(directory)\n",
    "# Note: Please make sure to keep both input (budget_data_.csv) and code (.ipynb) file in the same folder\n",
    "print (Path.cwd())"
   ]
  },
  {
   "cell_type": "code",
   "execution_count": 2,
   "id": "9f8ddb9b-586a-4431-a005-5762a37bbbc4",
   "metadata": {},
   "outputs": [],
   "source": [
    "# Set the file path\n",
    "csvpath = (Path.cwd()) / (\"budget_data.csv\")"
   ]
  },
  {
   "cell_type": "code",
   "execution_count": 3,
   "id": "c3a00386-7805-49c6-ab3e-c4b3aeb596dd",
   "metadata": {},
   "outputs": [
    {
     "name": "stdout",
     "output_type": "stream",
     "text": [
      "/Users/yasbhatti/homework/Python-homework/PyBank/budget_data.csv\n"
     ]
    }
   ],
   "source": [
    "# print the cvs path to access budget_data.csv file\n",
    "print (csvpath)"
   ]
  },
  {
   "cell_type": "code",
   "execution_count": 4,
   "id": "e9c8a50d-9779-421c-a3a3-044d4a2cdba3",
   "metadata": {},
   "outputs": [],
   "source": [
    "# Initialize dictionary{}\n",
    "\n",
    "analysis = {}"
   ]
  },
  {
   "cell_type": "code",
   "execution_count": 5,
   "id": "d8c03626-8a8b-4ac7-95e9-47a15ed529b3",
   "metadata": {},
   "outputs": [],
   "source": [
    "# Open the csv-file as an object and set it for reading purposes\n",
    "\n",
    "with open (csvpath, 'r') as csvfile:\n",
    "    \n",
    "    # Pass in the csv-file to the csv.reader() function\n",
    "    # (with ',' as the delmiter/separator) and return the csvreader object\n",
    "    csvreader = csv.reader(csvfile, delimiter= \",\")\n",
    "    \n",
    "    # Read the header row first - one time only\n",
    "    csv_header = next(csvreader)\n",
    "    \n",
    "    # Initialize variables (count, total, maximum_profit, maximum_month, minimum_profit, minimum_month,\n",
    "    # previous_profit_losses, current_profit_losses, change, total_change, average_change) \n",
    "    # for usage in the program\n",
    "    count = 0\n",
    "    total = 0\n",
    "    maximum_profit = 0\n",
    "    maximum_month = \"\"\n",
    "    minimum_profit = 0\n",
    "    minimum_month  = \"\"  \n",
    "    previous_profit_losses = 0\n",
    "    current_profit_losses = 0\n",
    "    change = 0\n",
    "    total_change = 0\n",
    "    average_change = 0\n",
    "    \n",
    "    # Read each row of data after the header\n",
    "    for row in csvreader:\n",
    "\n",
    "        # Set the 'date', 'profit_losses', 'count' and 'total' variables for better\n",
    "        # readability. Convert strings to ints and round 'total' for numerical calculations\n",
    "        date = row[0]\n",
    "        profit_losses = int (row[1])\n",
    "        count += 1\n",
    "        total += round(profit_losses, 2)\n",
    "        \n",
    "        # if count is equal to 1 then set the previous_profit_losses to profit_losses \n",
    "        # else if the count is more than 1 current_profit_losses will become the profit_losses. \n",
    "        # And change will be calculated by subtracting current_profit_losses from previous_profit_losses.\n",
    "        # Then set the previous_profit_losses to profit losses to repeat the above process. \n",
    "        # finally, add change in total_change to get totals for average_change calculations.\n",
    "        if count == 1:\n",
    "            previous_profit_losses = profit_losses\n",
    "        elif count > 1:\n",
    "            current_profit_losses = profit_losses\n",
    "            change = current_profit_losses - previous_profit_losses\n",
    "            previous_profit_losses = profit_losses\n",
    "            total_change += change\n",
    "\n",
    "        # if profit_losses are more than maximum_profit, maximum_profit will be the profit_looses \n",
    "        # and the maximum_month will be the date\n",
    "        if profit_losses > maximum_profit:\n",
    "            maximum_profit = profit_losses\n",
    "            maximum_month = date\n",
    "  \n",
    "        # if profit_losses are less than minimum_profit, minimum_profit will be the profit_looses \n",
    "        # and the minimum_month will be the date\n",
    "        if profit_losses < minimum_profit:\n",
    "            minimum_profit = profit_losses\n",
    "            minimum_month = date\n",
    "            \n",
    "        # If date is not already in the analysis dictionary, initialize the dictionary\n",
    "        # Else add value to the count in the analysis dictionay key \"count\"\n",
    "        if date not in analysis.keys():\n",
    "            analysis[date] = {\"count\": count, \"date\" : date, \"total\": total, \"max\": profit_losses, \"change\": change}\n",
    "        else:\n",
    "            analysis[date][\"count\"] += count"
   ]
  },
  {
   "cell_type": "code",
   "execution_count": 6,
   "id": "8e8104cc-697a-4fc9-92b6-eb0a008e7ffa",
   "metadata": {},
   "outputs": [],
   "source": [
    "# set change_count to count (minus one), because we don't include change in the first month. \n",
    "# And then we calculate average_change by dividing total_change from change_count \n",
    "# and round it to the nearst two decimal places. \n",
    "\n",
    "change_count = count-1\n",
    "average_change = round(total_change / change_count, 2)\n",
    "\n",
    "# set the header1 and header2 with the desired header. set the line1 to line6 for writing purposes \n",
    "# and pass variables. Finally; change the variables back to strings, and populate the final line.\n",
    "header1 = [\"                                                               Financial Analysis\"]\n",
    "header2 = [\"---------------------------------------------------------------------------------\"]\n",
    "line_1 = [\"Total months:   \" + str(count)]\n",
    "line_2 = [\"Total:    $\" + str(total)]\n",
    "line_3 = [\"Average Change:    $\" + str(average_change)]\n",
    "line_4 = [f\"Greatest Increase in Profits:  {str(maximum_month)}    ($ {str(maximum_profit)})\" ]\n",
    "line_5 = [f\"Greatest Decrease in Profits:  {str(minimum_month)}   ($ {str(minimum_profit)})\" ]\n",
    "line_6 = [\"-----------------------------------------------------------------------------------\"]\n",
    "\n",
    "# Set the path (pybank_path) for the financial_analysis.csv file\n",
    "pybank_path = Path(\"financial_analysis.csv\")\n",
    "\n",
    "# Open the output path (pybank_path) as a csv-file and pass into the 'csv.writer()' function\n",
    "# set the delimiter/separater as a ',' and write headers and lines to the  financial analysis report\n",
    "with open(pybank_path, 'w') as csvfile:\n",
    "    csvwriter = csv.writer(csvfile, delimiter = ',')\n",
    "    csvwriter.writerow(header1) \n",
    "    csvwriter.writerow(header2)\n",
    "    csvwriter.writerow(line_1)\n",
    "    csvwriter.writerow(line_2)\n",
    "    csvwriter.writerow(line_3)\n",
    "    csvwriter.writerow(line_4)\n",
    "    csvwriter.writerow(line_5)\n",
    "    csvwriter.writerow(line_6)\n",
    "    \n",
    "  "
   ]
  },
  {
   "cell_type": "code",
   "execution_count": null,
   "id": "b79208c2-5997-4efa-af99-2302443a4479",
   "metadata": {},
   "outputs": [],
   "source": []
  }
 ],
 "metadata": {
  "kernelspec": {
   "display_name": "Python 3",
   "language": "python",
   "name": "python3"
  },
  "language_info": {
   "codemirror_mode": {
    "name": "ipython",
    "version": 3
   },
   "file_extension": ".py",
   "mimetype": "text/x-python",
   "name": "python",
   "nbconvert_exporter": "python",
   "pygments_lexer": "ipython3",
   "version": "3.8.8"
  }
 },
 "nbformat": 4,
 "nbformat_minor": 5
}
